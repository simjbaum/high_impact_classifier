{
 "cells": [
  {
   "cell_type": "markdown",
   "metadata": {},
   "source": [
    "# title: \"what does us this abstract (title) tell\""
   ]
  },
  {
   "cell_type": "code",
   "execution_count": null,
   "metadata": {},
   "outputs": [],
   "source": [
    "#inspired by: \n",
    "# https://medium.com/@kliang933/scraping-big-data-from-public-research-repositories-e-g-pubmed-arxiv-2-488666f6f29b\n",
    "# https://marcobonzanini.com/2015/01/12/searching-pubmed-with-python/"
   ]
  },
  {
   "cell_type": "code",
   "execution_count": 1,
   "metadata": {},
   "outputs": [],
   "source": [
    "from Bio import Entrez"
   ]
  },
  {
   "cell_type": "markdown",
   "metadata": {},
   "source": [
    "## define some helper functions here"
   ]
  },
  {
   "cell_type": "code",
   "execution_count": 153,
   "metadata": {},
   "outputs": [],
   "source": [
    "def search(query):\n",
    "    Entrez.email = 'your.email@example.com'\n",
    "    handle = Entrez.esearch(db='pubmed', \n",
    "                            sort='relevance', \n",
    "                            retmax='20',\n",
    "                            retmode='xml', \n",
    "                            term=query)\n",
    "    results = Entrez.read(handle)\n",
    "    return results"
   ]
  },
  {
   "cell_type": "code",
   "execution_count": 3,
   "metadata": {},
   "outputs": [],
   "source": [
    "def fetch_details(id_list):\n",
    "    ids = ','.join(id_list)\n",
    "    Entrez.email = 'your.email@example.com'\n",
    "    handle = Entrez.efetch(db='pubmed',\n",
    "                           retmode='xml',\n",
    "                           id=ids)\n",
    "    results = Entrez.read(handle)\n",
    "    return results"
   ]
  },
  {
   "cell_type": "markdown",
   "metadata": {},
   "source": [
    "## plan:"
   ]
  },
  {
   "cell_type": "code",
   "execution_count": null,
   "metadata": {},
   "outputs": [],
   "source": [
    "# the idea is to collect titles (later we can also collect abstracts) from NCBI from different journals\n",
    "# In the next steps this data should be processed by NLP and key words (non stop words) will be extracted\n",
    "# In the last step this data can be used to test if we can come up with a machine learning approach which will give us a prediction if the title (or abstract) is from a high impact journal of not\n",
    "\n",
    "#"
   ]
  },
  {
   "cell_type": "markdown",
   "metadata": {},
   "source": [
    "## scraping data v1"
   ]
  },
  {
   "cell_type": "code",
   "execution_count": null,
   "metadata": {},
   "outputs": [],
   "source": [
    "GroupA=[\"Nature\", \"Science\", \"PNAS\",\"JACS\"]\n",
    "GroupB=[\"E-life\", \"Mol Cell\",\"Plos Computational\",\"Nature communication\",\"Cell\"]\n",
    "GroupC=[\"Nature Biotech\", \"Nature Chem Bio\", \"Nature Str Bio\", \"Nature Methods\"]"
   ]
  },
  {
   "cell_type": "code",
   "execution_count": 180,
   "metadata": {},
   "outputs": [
    {
     "name": "stdout",
     "output_type": "stream",
     "text": [
      "\"2018/01/01\"[Date - Publication] : \"2019/01/01\"[Date - Publication]) AND Nature[TA]\n",
      "\"2018/01/01\"[Date - Publication] : \"2019/01/01\"[Date - Publication]) AND Mol Cell[TA]\n",
      "\"2018/01/01\"[Date - Publication] : \"2019/01/01\"[Date - Publication]) AND Cells[TA]\n",
      "\"2019/01/01\"[Date - Publication] : \"2020/01/01\"[Date - Publication]) AND Nature[TA]\n",
      "\"2019/01/01\"[Date - Publication] : \"2020/01/01\"[Date - Publication]) AND Mol Cell[TA]\n",
      "\"2019/01/01\"[Date - Publication] : \"2020/01/01\"[Date - Publication]) AND Cells[TA]\n"
     ]
    }
   ],
   "source": [
    "GroupA=[\"Nature\"]\n",
    "GroupB=[\"Mol Cell\"]\n",
    "GroupC=[\"Cells\"]\n",
    "\n",
    "years = [2018, 2019]\n",
    "\n",
    "journals = {'A': GroupA, 'B': GroupB, 'C': GroupC}\n",
    "\n",
    "res_d = {}\n",
    "\n",
    "for year in years:\n",
    "    \n",
    "    for group,items in journals.items():\n",
    "\n",
    "        for j in journals[group]:\n",
    "\n",
    "            # define the search term:\n",
    "            pub_date = '\"{}/01/01\"[Date - Publication] : \"{}/01/01\"[Date - Publication])'.format(year, year+1)\n",
    "            search_term = \"{} AND {}[TA]\".format(pub_date, j)\n",
    "            print(search_term)\n",
    "            \n",
    "            # search the data base: \n",
    "            results = search(search_term) # query\n",
    "            id_list = results['IdList'] # list of UIDs - this will give us the article IDs\n",
    "            chunk_size = 50 # how much data you want to read in one instance - there is a limit to get server answers\n",
    "\n",
    "            for chunk_i in range(0, len(id_list), chunk_size):\n",
    "                chunk = id_list[chunk_i:chunk_i + chunk_size]\n",
    "                try: \n",
    "                    papers = fetch_details(chunk)\n",
    "                    for i, paper in enumerate(papers['PubmedArticle']):\n",
    "                        do_something() # perhaps write to a csv file\n",
    "                except: # occasionally a chunk might annoy your parser\n",
    "                    pass\n",
    "\n",
    "        titles_list = []\n",
    "        for articles in papers[\"PubmedArticle\"]:\n",
    "            titles_list.append(articles[\"MedlineCitation\"][\"Article\"][\"ArticleTitle\"])\n",
    "        \n",
    "        #key = str(j) + \n",
    "        res_d[str(group) + str(year)] = {j:[titles_list, search_term]}"
   ]
  },
  {
   "cell_type": "code",
   "execution_count": 181,
   "metadata": {},
   "outputs": [
    {
     "data": {
      "text/plain": [
       "{'A2018': {'Nature': [['Structure of the post-translational protein translocation machinery of the ER membrane.',\n",
       "    '3D printing mimics metals.',\n",
       "    'Brexit impacts, quitting coal and Lassa-fever outbreak.',\n",
       "    'Beyond the periodic table.',\n",
       "    'Japan should put the brakes on stem-cell sales.',\n",
       "    'Dating of hominin discoveries at Denisova.',\n",
       "    \"Protect Madagascar's national parks from pillage.\",\n",
       "    'UN could lead debate on gene editing.',\n",
       "    'Experimentally trained statistical models boost nuclear-fusion performance.',\n",
       "    'Secondary organic aerosol reduced by mixture of atmospheric vapours.',\n",
       "    'Timing of archaic hominin occupation of Denisova Cave in southern Siberia.',\n",
       "    'Tripled yield in direct-drive laser fusion through statistical modelling.',\n",
       "    \"Ethiopia's church forests are a last refuge for dwindling biodiversity.\",\n",
       "    'To learn inclusion skills, make it personal.',\n",
       "    'Scientists relieved but wary as US shutdown ends.',\n",
       "    'Drones unleashed against invasive rats in the Galapagos.',\n",
       "    'The first synthetic element.',\n",
       "    'Intron RNA sequences help yeast cells to survive starvation.',\n",
       "    'Postdoctoral mentorship key to career success.',\n",
       "    'A defined commensal consortium elicits CD8 T cells and anti-cancer immunity.'],\n",
       "   '\"2018/01/01\"[Date - Publication] : \"2019/01/01\"[Date - Publication]) AND Nature[TA]']},\n",
       " 'B2018': {'Mol Cell': [['Lipidomic Analysis of α-Synuclein Neurotoxicity Identifies Stearoyl CoA Desaturase as a Target for Parkinson Treatment.',\n",
       "    'Phage AcrIIA2 DNA Mimicry: Structural Basis of the CRISPR and Anti-CRISPR Arms Race.',\n",
       "    'RIPK1 and Caspase-8 Ensure Chromosome Stability Independently of Their Role in Cell Death and Inflammation.',\n",
       "    'Helicase Subunit Cdc45 Targets the Checkpoint Kinase Rad53 to Both Replication Initiation and Elongation Complexes after Fork Stalling.',\n",
       "    'The Translation Inhibitor Rocaglamide Targets a Bimolecular Cavity between eIF4A and Polypurine RNA.',\n",
       "    'Condensin-Dependent Chromatin Compaction Represses Transcription Globally during Quiescence.',\n",
       "    'ORP2 Delivers Cholesterol to the Plasma Membrane in Exchange for Phosphatidylinositol 4, 5-Bisphosphate (PI(4,5)P<sub>2</sub>).',\n",
       "    'A Compact, High-Accuracy Cas9 with a Dinucleotide PAM for In\\xa0Vivo Genome Editing.',\n",
       "    'Transcriptional Burst Initiation and Polymerase Pause Release Are Key Control Points of Transcriptional Regulation.',\n",
       "    'Temperature-Responsive Competitive Inhibition of CRISPR-Cas9.',\n",
       "    'Replication-Coupled DNA-Protein Crosslink Repair by SPRTN and the Proteasome in Xenopus Egg Extracts.',\n",
       "    'Noncanonical Modulation of the eIF2 Pathway Controls an Increase in Local Translation during Neural Wiring.',\n",
       "    'The Solution Structure of FUS Bound to RNA Reveals a Bipartite Mode of RNA Recognition with Both Sequence and Shape Specificity.',\n",
       "    'Molecular Basis for the Single-Nucleotide Precision of Primary microRNA Processing.',\n",
       "    'Target-Specific Precision of CRISPR-Mediated Genome Editing.',\n",
       "    'Interactome Rewiring Following Pharmacological Targeting of BET Bromodomains.',\n",
       "    'Role of Mitochondria in Ferroptosis.',\n",
       "    'Drp1-Zip1 Interaction Regulates Mitochondrial Quality Surveillance System.',\n",
       "    'The F-Box Domain-Dependent Activity of EMI1 Regulates PARPi Sensitivity in Triple-Negative Breast Cancers.',\n",
       "    'RSC-Associated Subnucleosomes Define MNase-Sensitive Promoters in Yeast.'],\n",
       "   '\"2018/01/01\"[Date - Publication] : \"2019/01/01\"[Date - Publication]) AND Mol Cell[TA]']},\n",
       " 'C2018': {'Cells': [['Sphingosine-1-Phosphate Receptor 2 Controls Podosome Components Induced by RANKL Affecting Osteoclastogenesis and Bone Resorption.',\n",
       "    'Relevance of Autophagy in Parenchymal and Non-Parenchymal Liver Cells for Health and Disease.',\n",
       "    'A Role for Circular Non-Coding RNAs in the Pathogenesis of Sporadic Parathyroid Adenomas and the Impact of Gender-Specific Epigenetic Regulation.',\n",
       "    'A Rise in ATP, ROS, and Mitochondrial Content upon Glucose Withdrawal Correlates with a Dysregulated Mitochondria Turnover Mediated by the Activation of the Protein Deacetylase SIRT1.',\n",
       "    '<i>SpermQ</i>⁻A Simple Analysis Software to Comprehensively Study Flagellar Beating and Sperm Steering.',\n",
       "    'Differential Mechanisms of Cell Death Induced by HDAC Inhibitor SAHA and MDM2 Inhibitor RG7388 in MCF-7 Cells.',\n",
       "    'Impact of Autophagy of Innate Immune Cells on Inflammatory Bowel Disease.',\n",
       "    'Dictyostelium: An Important Source of Structural and Functional Diversity in Drug Discovery.',\n",
       "    'Perspective: Mitochondria-ER Contacts in Metabolic Cellular Stress Assessed by Microscopy.',\n",
       "    'Extracellular Histones Activate Plasma Membrane Toll-Like Receptor 9 to Trigger Calcium Oscillations in Rat Pancreatic Acinar Tumor Cell AR4-2J.',\n",
       "    'Gi Protein Modulation of the Potassium Channel TASK-2 Mediates Vesicle Osmotic Swelling to Facilitate the Fusion of Aquaporin-2 Water Channel Containing Vesicles.',\n",
       "    'Mesenchymal Stem Cells (MSCs) Coculture Protects [Ca<sup>2+</sup>]<sub>i</sub> Orchestrated Oxidant Mediated Damage in Differentiated Neurons In Vitro.',\n",
       "    'Paradoxical Role of Matrix Metalloproteinases in Liver Injury and Regeneration after Sterile Acute Hepatic Failure.',\n",
       "    'Effect of a Collagen-Based Compound on Morpho-Functional Properties of Cultured Human Tenocytes.',\n",
       "    \"Exploring MicroRNA Biomarkers for Parkinson's Disease from mRNA Expression Profiles.\",\n",
       "    'Protective Effects and Target Network Analysis of Ginsenoside Rg1 in Cerebral Ischemia and Reperfusion Injury: A Comprehensive Overview of Experimental Studies.',\n",
       "    'Epigenetic Regulation of Skin Cells in Natural Aging and Premature Aging Diseases.',\n",
       "    'Accumulation of Ag(I) by Saccharomyces cerevisiae Cells Expressing Plant Metallothioneins.',\n",
       "    'Liposomal Delivery of miR-34b-5p Induced Cancer Cell Death in Thyroid Carcinoma.',\n",
       "    'Metabolic Signature of Dietary Iron Overload in a Mouse Model.'],\n",
       "   '\"2018/01/01\"[Date - Publication] : \"2019/01/01\"[Date - Publication]) AND Cells[TA]']},\n",
       " 'A2019': {'Nature': [['Mass balance of the Greenland Ice Sheet from 1992 to 2018.',\n",
       "    'GDF15 mediates the effects of metformin on body weight and energy balance.',\n",
       "    'Insights into the assembly and activation of the microtubule nucleator γ-TuRC.',\n",
       "    'Brexit is happening: what does it mean for science?',\n",
       "    'Fighting cancer with microbes.',\n",
       "    'Highlights from studies on the gut microbiome.',\n",
       "    'Could the gut microbiome be linked to autism?',\n",
       "    \"Five 'power skills' for becoming a team leader.\",\n",
       "    \"Emissions - the 'business as usual' story is misleading.\",\n",
       "    'The hunt for a healthy microbiome.',\n",
       "    'Could a bacteria-stuffed pill cure autoimmune diseases?',\n",
       "    'Synchrotron infrared spectroscopic evidence of the probable transition to metal hydrogen.',\n",
       "    'A milestone in the hunt for metallic hydrogen.',\n",
       "    'Genentech was not the first biotech company.',\n",
       "    'Catalexit: funds for science could suffer.',\n",
       "    \"The battle for ethical AI at the world's biggest machine-learning conference.\",\n",
       "    'Gram-scale bottom-up flash graphene synthesis.',\n",
       "    'Techniques converge to map the developing human heart at single-cell level.',\n",
       "    'Alone where seals bark in the mist.',\n",
       "    'How the stress of fight or flight turns hair white.'],\n",
       "   '\"2019/01/01\"[Date - Publication] : \"2020/01/01\"[Date - Publication]) AND Nature[TA]']},\n",
       " 'B2019': {'Mol Cell': [['A Mechanism to Minimize Errors during Non-homologous End Joining.',\n",
       "    'TATA-Box Binding Protein O-GlcNAcylation at T114 Regulates Formation of the B-TFIID Complex and Is Critical for Metabolic Gene Regulation.',\n",
       "    'Splicing Kinetics and Coordination Revealed by Direct Nascent RNA Sequencing through Nanopores.',\n",
       "    'The SUMO Ligase Su(var)2-10 Controls Hetero- and Euchromatic Gene Expression via Establishing H3K9 Trimethylation and Negative Feedback Regulation.',\n",
       "    'Su(var)2-10 and the SUMO Pathway Link piRNA-Guided Target Recognition to Chromatin Silencing.',\n",
       "    'Molecular Wiring of a Mitochondrial Translational Feedback Loop.',\n",
       "    'The Chaperone FACT and Histone H2B Ubiquitination Maintain S.\\xa0pombe Genome Architecture through Genic and Subtelomeric Functions.',\n",
       "    'Paradoxical Role for Wild-Type p53 in Driving Therapy Resistance in Melanoma.',\n",
       "    'Functional Translatome Proteomics Reveal Converging and Dose-Dependent Regulation by mTORC1 and eIF2α.',\n",
       "    'c-di-GMP Arms an Anti-σ to Control Progression of Multicellular Differentiation in Streptomyces.',\n",
       "    'The ER-Localized Transmembrane Protein TMEM39A/SUSR2 Regulates Autophagy by Controlling the Trafficking of the PtdIns(4)P Phosphatase SAC1.',\n",
       "    'Fork Cleavage-Religation Cycle and Active Transcription Mediate Replication Restart after Fork Stalling at Co-transcriptional R-Loops.',\n",
       "    'PRIMPOL-Mediated Adaptive Response Suppresses Replication Fork Reversal in BRCA-Deficient Cells.',\n",
       "    'Lipid Droplet-Derived Monounsaturated Fatty Acids Traffic via PLIN5 to Allosterically Activate SIRT1.',\n",
       "    'Histone H2AK119 Mono-Ubiquitination Is Essential for Polycomb-Mediated Transcriptional Repression.',\n",
       "    'PRC1 Catalytic Activity Is Central to Polycomb System Function.',\n",
       "    'Polycomb Group Proteins Regulate Chromatin Architecture in Mouse Oocytes and Early Embryos.',\n",
       "    'Suppression of MEHMO Syndrome Mutation in eIF2 by Small Molecule ISRIB.',\n",
       "    'Targeting UBE4A Revives Viperin Protein in Epithelium to Enhance Host Antiviral Defense.',\n",
       "    'Altered m<sup>6</sup>A Modification of Specific Cellular Transcripts Affects Flaviviridae Infection.'],\n",
       "   '\"2019/01/01\"[Date - Publication] : \"2020/01/01\"[Date - Publication]) AND Mol Cell[TA]']},\n",
       " 'C2019': {'Cells': [['MGL1 Receptor Plays a Key Role in the Control of <i>T. cruzi</i> Infection by Increasing Macrophage Activation through Modulation of ERK1/2, c-Jun, NF-κB and NLRP3 Pathways.',\n",
       "    'Is Autophagy Involved in Pepper Fruit Ripening?',\n",
       "    'Monocytes as Endothelial Progenitor Cells (EPCs), Another Brick in the Wall to Disentangle Tumor Angiogenesis.',\n",
       "    'Insights into Drought Stress Signaling in Plants and the Molecular Genetic Basis of Cotton Drought Tolerance.',\n",
       "    'Csf1 Deficiency Dysregulates Glial Responses to Demyelination and Disturbs CNS White Matter Remyelination.',\n",
       "    'Signaling Network of Forkhead Family of Transcription Factors (FOXO) in Dietary Restriction.',\n",
       "    'Extracellular Vesicles from Mesenchymal Stem Cells as Novel Treatments for Musculoskeletal Diseases.',\n",
       "    'Expression of Adenoviral E1A in Transformed Cells as an Additional Factor of HDACi-Dependent FoxO Regulation.',\n",
       "    'Extracellular Vesicle-Mediated Communication between the Glioblastoma and Its Microenvironment.',\n",
       "    'Octyl Gallate Induces Pancreatic Ductal Adenocarcinoma Cell Apoptosis and Suppresses Endothelial-Mesenchymal Transition-Promoted M2-Macrophages, HSP90α Secretion, and Tumor Growth.',\n",
       "    'PP2A Deficiency Enhances Carcinogenesis of Lgr5<sup>+</sup> Intestinal Stem Cells Both in Organoids and In Vivo.',\n",
       "    'Tensin-3 Regulates Integrin-Mediated Proliferation and Differentiation of Tonsil-Derived Mesenchymal Stem Cells.',\n",
       "    'Vertically-Aligned Functionalized Silicon Micropillars for 3D Culture of Human Pluripotent Stem Cell-Derived Cortical Progenitors.',\n",
       "    'Metabolism of Reactive Oxygen Species in Osteosarcoma and Potential Treatment Applications.',\n",
       "    'Synergistic Effects of N-Acetylcysteine and Mesenchymal Stem Cell in a Lipopolysaccharide-Induced Interstitial Cystitis Rat Model.',\n",
       "    'A Septin Cytoskeleton-Targeting Small Molecule, Forchlorfenuron, Inhibits Epithelial Migration via Septin-Independent Perturbation of Cellular Signaling.',\n",
       "    'Cirrhotic Human Liver Extracellular Matrix 3D Scaffolds Promote Smad-Dependent TGF-β1 Epithelial Mesenchymal Transition.',\n",
       "    'Investigation of Cuprizone-Induced Demyelination in mGFAP-Driven Conditional Transient Receptor Potential Ankyrin 1 (TRPA1) Receptor Knockout Mice.',\n",
       "    'Angiogenic Potential of Bone Marrow Derived CD133<sup>+</sup> and CD271<sup>+</sup> Intramyocardial Stem Cell Trans- Plantation Post MI.',\n",
       "    'Identification and Characterization of an OSH1 Thiol Reductase from <i>Populus Trichocarpa</i>.'],\n",
       "   '\"2019/01/01\"[Date - Publication] : \"2020/01/01\"[Date - Publication]) AND Cells[TA]']}}"
      ]
     },
     "execution_count": 181,
     "metadata": {},
     "output_type": "execute_result"
    }
   ],
   "source": [
    "res_d"
   ]
  },
  {
   "cell_type": "code",
   "execution_count": null,
   "metadata": {},
   "outputs": [],
   "source": [
    "##### NEXT STEPS #####\n",
    "# refine the journal list - high impact yes or now - is there a data base and a source for a classification of high impact?\n",
    "# refine the handle :\n",
    "#     handle = Entrez.esearch(db='pubmed', \n",
    "                            # sort='relevance',  - do we want to search it by relevance? probably not, maybe we want to take random 10000 or something  \n",
    "                            # retmax='20', - performance, is it possible to querry 10000 with one run? needs to be tested\n",
    "                            # retmode='xml', \n",
    "                            # term=query)"
   ]
  }
 ],
 "metadata": {
  "kernelspec": {
   "display_name": "Python 3",
   "language": "python",
   "name": "python3"
  },
  "language_info": {
   "codemirror_mode": {
    "name": "ipython",
    "version": 3
   },
   "file_extension": ".py",
   "mimetype": "text/x-python",
   "name": "python",
   "nbconvert_exporter": "python",
   "pygments_lexer": "ipython3",
   "version": "3.7.3"
  }
 },
 "nbformat": 4,
 "nbformat_minor": 4
}
